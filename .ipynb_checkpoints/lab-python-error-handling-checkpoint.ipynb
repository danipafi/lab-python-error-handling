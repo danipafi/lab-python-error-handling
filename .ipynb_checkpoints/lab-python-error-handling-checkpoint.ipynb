{
 "cells": [
  {
   "cell_type": "markdown",
   "id": "25d7736c-ba17-4aff-b6bb-66eba20fbf4e",
   "metadata": {},
   "source": [
    "# Lab | Error Handling"
   ]
  },
  {
   "cell_type": "markdown",
   "id": "bc99b386-7508-47a0-bcdb-d969deaf6c8b",
   "metadata": {},
   "source": [
    "## Exercise: Error Handling for Managing Customer Orders\n",
    "\n",
    "The implementation of your code for managing customer orders assumes that the user will always enter a valid input. \n",
    "\n",
    "For example, we could modify the `initialize_inventory` function to include error handling.\n",
    "   - If the user enters an invalid quantity (e.g., a negative value or a non-numeric value), display an error message and ask them to re-enter the quantity for that product.\n",
    "   - Use a try-except block to handle the error and continue prompting the user until a valid quantity is entered.\n",
    "\n",
    "```python\n",
    "# Step 1: Define the function for initializing the inventory with error handling\n",
    "def initialize_inventory(products):\n",
    "    inventory = {}\n",
    "    for product in products:\n",
    "        valid_quantity = False\n",
    "        while not valid_quantity:\n",
    "            try:\n",
    "                quantity = int(input(f\"Enter the quantity of {product}s available: \"))\n",
    "                if quantity < 0:\n",
    "                    raise ValueError(\"Invalid quantity! Please enter a non-negative value.\")\n",
    "                valid_quantity = True\n",
    "            except ValueError as error:\n",
    "                print(f\"Error: {error}\")\n",
    "        inventory[product] = quantity\n",
    "    return inventory\n",
    "\n",
    "# Or, in another way:\n",
    "\n",
    "def initialize_inventory(products):\n",
    "    inventory = {}\n",
    "    for product in products:\n",
    "        valid_input = False\n",
    "        while not valid_input:\n",
    "            try:\n",
    "                quantity = int(input(f\"Enter the quantity of {product}s available: \"))\n",
    "                if quantity >= 0:\n",
    "                    inventory[product] = quantity\n",
    "                    valid_input = True\n",
    "                else:\n",
    "                    print(\"Quantity cannot be negative. Please enter a valid quantity.\")\n",
    "            except ValueError:\n",
    "                print(\"Invalid input. Please enter a valid quantity.\")\n",
    "    return inventory\n",
    "```\n",
    "\n",
    "Let's enhance your code by implementing error handling to handle invalid inputs.\n",
    "\n",
    "Follow the steps below to complete the exercise:\n",
    "\n",
    "2. Modify the `calculate_total_price` function to include error handling.\n",
    "   - If the user enters an invalid price (e.g., a negative value or a non-numeric value), display an error message and ask them to re-enter the price for that product.\n",
    "   - Use a try-except block to handle the error and continue prompting the user until a valid price is entered."
   ]
  },
  {
   "cell_type": "code",
   "execution_count": 1,
   "id": "916c28ae",
   "metadata": {},
   "outputs": [],
   "source": [
    "def total_price(customer_orders):\n",
    "    prices = []  # List to store prices\n",
    "    for product in customer_orders:\n",
    "        valid_input = False\n",
    "        while not valid_input:\n",
    "            try:\n",
    "                q = input(f\"Enter the price of {product}: \")\n",
    "                price = int(q)  # Convert input to integer\n",
    "                if price >= 0:\n",
    "                    prices.append(price)  # Add valid price to list\n",
    "                    valid_input = True  # Exit loop for this product\n",
    "                else:\n",
    "                    print(\"Price cannot be negative. Please enter a valid price.\")\n",
    "            except ValueError:\n",
    "                print(\"Invalid input. Please enter a valid price.\")\n",
    "\n",
    "    return sum(prices)  # Compute and return total price"
   ]
  },
  {
   "cell_type": "markdown",
   "id": "727b9e0e",
   "metadata": {},
   "source": [
    "3. Modify the `get_customer_orders` function to include error handling.\n",
    "   - If the user enters an invalid number of orders (e.g., a negative value or a non-numeric value), display an error message and ask them to re-enter the number of orders.\n",
    "   - If the user enters an invalid product name (e.g., a product name that is not in the inventory), or that doesn't have stock available, display an error message and ask them to re-enter the product name. *Hint: you will need to pass inventory as a parameter*\n",
    "   - Use a try-except block to handle the error and continue prompting the user until a valid product name is entered."
   ]
  },
  {
   "cell_type": "code",
   "execution_count": 2,
   "id": "2f6e8a0b",
   "metadata": {},
   "outputs": [],
   "source": [
    "def initialize_inventory(*products):\n",
    "    inventory = {product: int(input(f\"Enter the quantity of {product}: \")) for product in products}\n",
    "    return inventory\n",
    "\n",
    "def get_customer_orders(inventory):\n",
    "    \"\"\"Get valid customer orders, ensuring product names exist and have available stock.\"\"\"\n",
    "    customer_orders = set()\n",
    "\n",
    "    while True:\n",
    "        try:\n",
    "            product = input(\"Enter the product name: \").strip()\n",
    "            \n",
    "            # Check if product exists and has stock available\n",
    "            if product not in inventory:\n",
    "                print(\"Error: This product is not in our inventory. Please enter a valid product.\")\n",
    "                continue\n",
    "            elif inventory[product] <= 0:\n",
    "                print(\"Error: This product is out of stock. Please choose another product.\")\n",
    "                continue\n",
    "\n",
    "            customer_orders.add(product)  # Add product to order\n",
    "\n",
    "            # Ask if user wants to add another product\n",
    "            while True:\n",
    "                answer = input(\"Do you want to add another product to your order? (yes/no): \").strip().lower()\n",
    "                if answer in [\"yes\", \"no\"]:\n",
    "                    break\n",
    "                print(\"Invalid input. Please enter 'yes' or 'no'.\")\n",
    "\n",
    "            if answer == \"no\":\n",
    "                break  # Exit loop if no more products are needed\n",
    "\n",
    "        except Exception as e:\n",
    "            print(f\"An unexpected error occurred: {e}\")\n",
    "\n",
    "    print(\"Thanks for ordering with us!\")\n",
    "    return customer_orders"
   ]
  },
  {
   "cell_type": "markdown",
   "id": "9b6451c4",
   "metadata": {},
   "source": [
    "4. Test your code by running the program and deliberately entering invalid quantities and product names. Make sure the error handling mechanism works as expected."
   ]
  },
  {
   "cell_type": "code",
   "execution_count": 4,
   "id": "b1271da4",
   "metadata": {},
   "outputs": [
    {
     "name": "stdout",
     "output_type": "stream",
     "text": [
      "Enter the price of Apple: -5\n",
      "Price cannot be negative. Please enter a valid price.\n",
      "Enter the price of Apple: g\n",
      "Invalid input. Please enter a valid price.\n",
      "Enter the price of Apple: 5\n",
      "Enter the price of Banana: 5\n",
      "Enter the price of Cherry: 5\n",
      "Total price: 15\n"
     ]
    }
   ],
   "source": [
    "orders = [\"Apple\", \"Banana\", \"Cherry\"]\n",
    "total = total_price(orders)\n",
    "print(f\"Total price: {total}\")"
   ]
  },
  {
   "cell_type": "code",
   "execution_count": 5,
   "id": "657717dc",
   "metadata": {},
   "outputs": [
    {
     "name": "stdout",
     "output_type": "stream",
     "text": [
      "Enter the quantity of apple: -3\n",
      "Enter the quantity of banana: g\n"
     ]
    },
    {
     "ename": "ValueError",
     "evalue": "invalid literal for int() with base 10: 'g'",
     "output_type": "error",
     "traceback": [
      "\u001b[0;31m---------------------------------------------------------------------------\u001b[0m",
      "\u001b[0;31mValueError\u001b[0m                                Traceback (most recent call last)",
      "Cell \u001b[0;32mIn[5], line 1\u001b[0m\n\u001b[0;32m----> 1\u001b[0m inventory \u001b[38;5;241m=\u001b[39m initialize_inventory(\u001b[38;5;124m\"\u001b[39m\u001b[38;5;124mapple\u001b[39m\u001b[38;5;124m\"\u001b[39m, \u001b[38;5;124m\"\u001b[39m\u001b[38;5;124mbanana\u001b[39m\u001b[38;5;124m\"\u001b[39m, \u001b[38;5;124m\"\u001b[39m\u001b[38;5;124morange\u001b[39m\u001b[38;5;124m\"\u001b[39m)\n\u001b[1;32m      2\u001b[0m customer_orders \u001b[38;5;241m=\u001b[39m get_customer_orders(inventory)\n\u001b[1;32m      3\u001b[0m \u001b[38;5;28mprint\u001b[39m(\u001b[38;5;124m\"\u001b[39m\u001b[38;5;124mYour order:\u001b[39m\u001b[38;5;124m\"\u001b[39m, customer_orders)\n",
      "Cell \u001b[0;32mIn[2], line 2\u001b[0m, in \u001b[0;36minitialize_inventory\u001b[0;34m(*products)\u001b[0m\n\u001b[1;32m      1\u001b[0m \u001b[38;5;28;01mdef\u001b[39;00m \u001b[38;5;21minitialize_inventory\u001b[39m(\u001b[38;5;241m*\u001b[39mproducts):\n\u001b[0;32m----> 2\u001b[0m     inventory \u001b[38;5;241m=\u001b[39m {product: \u001b[38;5;28mint\u001b[39m(\u001b[38;5;28minput\u001b[39m(\u001b[38;5;124mf\u001b[39m\u001b[38;5;124m\"\u001b[39m\u001b[38;5;124mEnter the quantity of \u001b[39m\u001b[38;5;132;01m{\u001b[39;00mproduct\u001b[38;5;132;01m}\u001b[39;00m\u001b[38;5;124m: \u001b[39m\u001b[38;5;124m\"\u001b[39m)) \u001b[38;5;28;01mfor\u001b[39;00m product \u001b[38;5;129;01min\u001b[39;00m products}\n\u001b[1;32m      3\u001b[0m     \u001b[38;5;28;01mreturn\u001b[39;00m inventory\n",
      "Cell \u001b[0;32mIn[2], line 2\u001b[0m, in \u001b[0;36m<dictcomp>\u001b[0;34m(.0)\u001b[0m\n\u001b[1;32m      1\u001b[0m \u001b[38;5;28;01mdef\u001b[39;00m \u001b[38;5;21minitialize_inventory\u001b[39m(\u001b[38;5;241m*\u001b[39mproducts):\n\u001b[0;32m----> 2\u001b[0m     inventory \u001b[38;5;241m=\u001b[39m {product: \u001b[38;5;28mint\u001b[39m(\u001b[38;5;28minput\u001b[39m(\u001b[38;5;124mf\u001b[39m\u001b[38;5;124m\"\u001b[39m\u001b[38;5;124mEnter the quantity of \u001b[39m\u001b[38;5;132;01m{\u001b[39;00mproduct\u001b[38;5;132;01m}\u001b[39;00m\u001b[38;5;124m: \u001b[39m\u001b[38;5;124m\"\u001b[39m)) \u001b[38;5;28;01mfor\u001b[39;00m product \u001b[38;5;129;01min\u001b[39;00m products}\n\u001b[1;32m      3\u001b[0m     \u001b[38;5;28;01mreturn\u001b[39;00m inventory\n",
      "\u001b[0;31mValueError\u001b[0m: invalid literal for int() with base 10: 'g'"
     ]
    }
   ],
   "source": [
    "inventory = initialize_inventory(\"apple\", \"banana\", \"orange\")\n",
    "customer_orders = get_customer_orders(inventory)\n",
    "print(\"Your order:\", customer_orders)"
   ]
  },
  {
   "cell_type": "code",
   "execution_count": 6,
   "id": "d7b93181",
   "metadata": {},
   "outputs": [
    {
     "name": "stdout",
     "output_type": "stream",
     "text": [
      "Enter the product name: apple\n",
      "Enter quantity of apple (Available: 10): 11\n",
      "❌ Error: We only have 10 in stock. Please enter a smaller quantity.\n",
      "Enter quantity of apple (Available: 10): -5\n",
      "❌ Error: Quantity must be greater than 0. Please enter a valid quantity.\n",
      "Enter quantity of apple (Available: 10): 5\n",
      "Do you want to add another product to your order? (yes/no): no\n",
      "\n",
      "✅ Thanks for ordering with us!\n",
      "\n",
      "🛒 Your Final Order: {'apple': 5}\n",
      "📦 Updated Inventory: {'apple': 5, 'banana': 5, 'orange': 8}\n"
     ]
    }
   ],
   "source": [
    "def get_customer_orders(inventory):\n",
    "    \n",
    "    customer_orders = {}  # Use a dictionary to store product names and their quantities\n",
    "\n",
    "    while True:\n",
    "        try:\n",
    "            product = input(\"Enter the product name: \").strip()\n",
    "            \n",
    "            # Validate if product is in inventory\n",
    "            if product not in inventory:\n",
    "                print(\"❌ Error: This product is not in our inventory. Please enter a valid product.\")\n",
    "                continue\n",
    "            \n",
    "            # Validate if product is in stock\n",
    "            if inventory[product] <= 0:\n",
    "                print(f\"❌ Error: {product} is out of stock. Please choose another product.\")\n",
    "                continue\n",
    "            \n",
    "            # Ask for quantity\n",
    "            while True:\n",
    "                try:\n",
    "                    quantity = int(input(f\"Enter quantity of {product} (Available: {inventory[product]}): \"))\n",
    "                    \n",
    "                    if quantity <= 0:\n",
    "                        print(\"❌ Error: Quantity must be greater than 0. Please enter a valid quantity.\")\n",
    "                        continue\n",
    "                    \n",
    "                    if quantity > inventory[product]:\n",
    "                        print(f\"❌ Error: We only have {inventory[product]} in stock. Please enter a smaller quantity.\")\n",
    "                        continue\n",
    "                    \n",
    "                    # Add product to order\n",
    "                    if product in customer_orders:\n",
    "                        customer_orders[product] += quantity  # If already ordered, add to existing quantity\n",
    "                    else:\n",
    "                        customer_orders[product] = quantity\n",
    "\n",
    "                    # Reduce inventory stock\n",
    "                    inventory[product] -= quantity\n",
    "                    break  # Exit quantity loop if valid input\n",
    "                except ValueError:\n",
    "                    print(\"❌ Error: Please enter a numeric quantity.\")\n",
    "\n",
    "            # Ask if user wants to add another product\n",
    "            while True:\n",
    "                answer = input(\"Do you want to add another product to your order? (yes/no): \").strip().lower()\n",
    "                if answer in [\"yes\", \"no\"]:\n",
    "                    break\n",
    "                print(\"❌ Error: Invalid input. Please enter 'yes' or 'no'.\")\n",
    "\n",
    "            if answer == \"no\":\n",
    "                break  # Exit the loop if customer is done ordering\n",
    "\n",
    "        except Exception as e:\n",
    "            print(f\"⚠️ Unexpected error: {e}\")\n",
    "\n",
    "    print(\"\\n✅ Thanks for ordering with us!\")\n",
    "    return customer_orders\n",
    "\n",
    "# Example usage:\n",
    "inventory = {\n",
    "    \"apple\": 10,\n",
    "    \"banana\": 5,\n",
    "    \"orange\": 8\n",
    "}\n",
    "\n",
    "customer_orders = get_customer_orders(inventory)\n",
    "print(\"\\n🛒 Your Final Order:\", customer_orders)\n",
    "print(\"📦 Updated Inventory:\", inventory)\n"
   ]
  },
  {
   "cell_type": "code",
   "execution_count": null,
   "id": "4340da3c",
   "metadata": {},
   "outputs": [],
   "source": []
  }
 ],
 "metadata": {
  "kernelspec": {
   "display_name": "Python 3 (ipykernel)",
   "language": "python",
   "name": "python3"
  },
  "language_info": {
   "codemirror_mode": {
    "name": "ipython",
    "version": 3
   },
   "file_extension": ".py",
   "mimetype": "text/x-python",
   "name": "python",
   "nbconvert_exporter": "python",
   "pygments_lexer": "ipython3",
   "version": "3.11.5"
  }
 },
 "nbformat": 4,
 "nbformat_minor": 5
}
